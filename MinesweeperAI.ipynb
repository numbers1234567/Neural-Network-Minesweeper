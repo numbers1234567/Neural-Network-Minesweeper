{
 "cells": [
  {
   "cell_type": "code",
   "execution_count": 9,
   "metadata": {},
   "outputs": [],
   "source": [
    "\n",
    "TRAIN_DATA_PATH = \"data/train.txt\""
   ]
  },
  {
   "cell_type": "code",
   "execution_count": 10,
   "metadata": {},
   "outputs": [
    {
     "name": "stdout",
     "output_type": "stream",
     "text": [
      "790.0\n"
     ]
    }
   ],
   "source": [
    "# Sanity check, to ensure data is correct\n",
    "def line_can_be_output(line):\n",
    "    \"\"\"\n",
    "    Checks if line (list) is an output\n",
    "    \"\"\"\n",
    "    for char in line:\n",
    "        if char != '0' and char != '1': return False\n",
    "        \n",
    "    return True\n",
    "\n",
    "train_file = open(TRAIN_DATA_PATH, \"r\")\n",
    "file_lines = train_file.readlines()\n",
    "\n",
    "for i in range(len(file_lines)):\n",
    "    line = file_lines[i].replace(\"\\n\", \"\").split(\" \")[:-1]\n",
    "    if i % 32 > 16 and not line_can_be_output(line): # If it is a piece of output data\n",
    "        print(\"Discrepancy in line \" + str(i) + \"!\")\n",
    "        \n",
    "print(len(file_lines)/32)\n",
    "train_file.close()"
   ]
  },
  {
   "cell_type": "code",
   "execution_count": 13,
   "metadata": {},
   "outputs": [
    {
     "name": "stdout",
     "output_type": "stream",
     "text": [
      "(153600, 16, 16, 1)\n"
     ]
    }
   ],
   "source": [
    "import numpy as np\n",
    "from random import randint\n",
    "\n",
    "\"\"\"\n",
    "Returns data as an entire numpy array\n",
    "\"\"\"\n",
    "def matricize_data(file_path, num_data):\n",
    "    data_file = open(file_path, \"r\")\n",
    "    input_matrix = []\n",
    "    positions_matrix = []\n",
    "    label_matrix = []\n",
    "    # Get data, 16 lines per\n",
    "    for i in range(num_data):\n",
    "        input_board = [[[int(number)] for number in data_file.readline().replace(\"\\n\", \"\").split(\" \")[:-1]] \n",
    "                            for i in range(16)]\n",
    "        possible_moves = [[[int(number)] for number in data_file.readline().replace(\"\\n\", \"\").split(\" \")[:-1]] \n",
    "                        for i in range(16)]\n",
    "        for y in range(16):\n",
    "            for x in range(16):\n",
    "                index_insert = randint(0, len(input_matrix)-1) if input_matrix != [] else 0\n",
    "                input_matrix.insert(index_insert, input_board)\n",
    "                positions_matrix.insert(index_insert, [x, y])\n",
    "                label_matrix.insert(index_insert, possible_moves[y][x])\n",
    "    \n",
    "    data_file.close()\n",
    "    return (np.array(input_matrix), np.array(positions_matrix), np.array(label_matrix), len(input_matrix))\n",
    "    \n",
    "\"\"\"\n",
    "Generator that yields a piece of data\n",
    "\"\"\"\n",
    "def gen_matricize_data(file_path, num_data):\n",
    "    data_file = open(file_path, \"r\")\n",
    "    for i in range(num_data):\n",
    "        input_matrix = [[[int(number)] for number in data_file.readline().replace(\"\\n\").split(\" \")[:-1]] \n",
    "                            for i in range(16)]\n",
    "        label_matrix = [[[int(number)] for number in data_file.readline().replace(\"\\n\").split(\" \")[:-1]] \n",
    "                        for i in range(16)]\n",
    "        yield (input_matrix, label_matrix)\n",
    "    \n",
    "    data_file.close()\n",
    "    return\n",
    "\n",
    "train_board, train_positions, label_matrix, train_length = matricize_data(TRAIN_DATA_PATH, 600)\n",
    "print(train_board.shape)"
   ]
  },
  {
   "cell_type": "code",
   "execution_count": 28,
   "metadata": {},
   "outputs": [
    {
     "name": "stdout",
     "output_type": "stream",
     "text": [
      "Model: \"sequential_27\"\n",
      "_________________________________________________________________\n",
      "Layer (type)                 Output Shape              Param #   \n",
      "=================================================================\n",
      "conv2d_89 (Conv2D)           (None, 14, 14, 4)         40        \n",
      "_________________________________________________________________\n",
      "conv2d_90 (Conv2D)           (None, 12, 12, 8)         296       \n",
      "_________________________________________________________________\n",
      "conv2d_91 (Conv2D)           (None, 10, 10, 16)        1168      \n",
      "_________________________________________________________________\n",
      "max_pooling2d_53 (MaxPooling (None, 5, 5, 16)          0         \n",
      "_________________________________________________________________\n",
      "flatten_8 (Flatten)          (None, 400)               0         \n",
      "_________________________________________________________________\n",
      "dense_16 (Dense)             (None, 512)               205312    \n",
      "_________________________________________________________________\n",
      "dense_17 (Dense)             (None, 1)                 513       \n",
      "=================================================================\n",
      "Total params: 207,329\n",
      "Trainable params: 207,329\n",
      "Non-trainable params: 0\n",
      "_________________________________________________________________\n"
     ]
    }
   ],
   "source": [
    "from keras import layers\n",
    "from keras import models\n",
    "\n",
    "board_input = layers.Input(shape=(16, 16, 1))\n"
   ]
  },
  {
   "cell_type": "code",
   "execution_count": null,
   "metadata": {},
   "outputs": [],
   "source": []
  },
  {
   "cell_type": "code",
   "execution_count": null,
   "metadata": {},
   "outputs": [],
   "source": []
  }
 ],
 "metadata": {
  "kernelspec": {
   "display_name": "Python 3",
   "language": "python",
   "name": "python3"
  },
  "language_info": {
   "codemirror_mode": {
    "name": "ipython",
    "version": 3
   },
   "file_extension": ".py",
   "mimetype": "text/x-python",
   "name": "python",
   "nbconvert_exporter": "python",
   "pygments_lexer": "ipython3",
   "version": "3.7.6"
  }
 },
 "nbformat": 4,
 "nbformat_minor": 4
}
