{
 "cells": [
  {
   "cell_type": "code",
   "execution_count": 31,
   "metadata": {},
   "outputs": [],
   "source": [
    "\n",
    "TRAIN_DATA_PATH = \"data/train.txt\""
   ]
  },
  {
   "cell_type": "code",
   "execution_count": 33,
   "metadata": {},
   "outputs": [
    {
     "name": "stdout",
     "output_type": "stream",
     "text": [
      "0\n"
     ]
    }
   ],
   "source": [
    "# Sanity check, to ensure data is correct\n",
    "def line_can_be_output(line):\n",
    "    \"\"\"\n",
    "    Checks if line (list) is an output\n",
    "    \"\"\"\n",
    "    for char in line:\n",
    "        if char != '0' and char != '1': return False\n",
    "        \n",
    "    return True\n",
    "\n",
    "train_file = open(TRAIN_DATA_PATH, \"r\")\n",
    "file_lines = train_file.readlines()\n",
    "\n",
    "for i in range(len(file_lines)):\n",
    "    line = file_lines[i].replace(\"\\n\", \"\").split(\" \")[:-1]\n",
    "    if i % 32 > 16 and not line_can_be_output(line): # If it is a piece of output data\n",
    "        print(\"Discrepancy in line \" + str(i) + \"!\")\n",
    "        \n",
    "print(len(file_lines)/32)\n",
    "train_file.close()"
   ]
  },
  {
   "cell_type": "code",
   "execution_count": 30,
   "metadata": {},
   "outputs": [],
   "source": [
    "import numpy as np\n",
    "\n",
    "\"\"\"\n",
    "Returns data as an entire numpy array\n",
    "\"\"\"\n",
    "def matricize_data(file_path, num_data):\n",
    "    data_file = open(file_path, \"r\")\n",
    "    input_matrix = []\n",
    "    label_matrix = []\n",
    "    # Get data, 16 lines per\n",
    "    for i in range(num_data):\n",
    "        input_matrix.append([[int(number) for number in data_file.readline().replace(\"\\n\").split(\" \")[:-1]] \n",
    "                            for i in range(16)])\n",
    "        label_matrix.append([[int(number) for number in data_file.readline().replace(\"\\n\").split(\" \")[:-1]] \n",
    "                        for i in range(16)])\n",
    "    \n",
    "    data_file.close()\n",
    "    return (np.array(input_matrix), np.array(label_matrix))\n",
    "    \n",
    "\"\"\"\n",
    "Generator that yields a piece of data\n",
    "\"\"\"\n",
    "def gen_matricize_data(file_path, num_data):\n",
    "    data_file = open(file_path, \"r\")\n",
    "    for i in range(num_data):\n",
    "        input_matrix = [[int(number) for number in data_file.readline().replace(\"\\n\").split(\" \")[:-1]] \n",
    "                            for i in range(16)]\n",
    "        label_matrix = [[int(number) for number in data_file.readline().replace(\"\\n\").split(\" \")[:-1]] \n",
    "                        for i in range(16)]\n",
    "        yield (input_matrix, label_matrix)\n",
    "    \n",
    "    data_file.close()\n",
    "    return"
   ]
  },
  {
   "cell_type": "code",
   "execution_count": null,
   "metadata": {},
   "outputs": [],
   "source": []
  }
 ],
 "metadata": {
  "kernelspec": {
   "display_name": "Python 3",
   "language": "python",
   "name": "python3"
  },
  "language_info": {
   "codemirror_mode": {
    "name": "ipython",
    "version": 3
   },
   "file_extension": ".py",
   "mimetype": "text/x-python",
   "name": "python",
   "nbconvert_exporter": "python",
   "pygments_lexer": "ipython3",
   "version": "3.7.6"
  }
 },
 "nbformat": 4,
 "nbformat_minor": 4
}
