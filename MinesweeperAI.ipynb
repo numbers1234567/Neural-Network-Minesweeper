{
 "cells": [
  {
   "cell_type": "code",
   "execution_count": 1,
   "metadata": {},
   "outputs": [
    {
     "name": "stdout",
     "output_type": "stream",
     "text": [
      "/Library/Java/JavaVirtualMachines/jdk1.8.0_102.jdk/Contents/Home/jre/lib/jli/libjli.dylib\n"
     ]
    }
   ],
   "source": [
    "import jpype\n",
    "import jpype.imports\n",
    "from jpype.types import *\n",
    "import numpy as np\n",
    "\n",
    "print(jpype.getDefaultJVMPath())\n",
    "\n",
    "jpype.startJVM(jpype.getDefaultJVMPath(),\"-ea\", \"-Djava.class.path=%s\" % ('/Users/apimienta/Documents/Minesweeper AI/train'))\n",
    "\n",
    "MinesweeperInterface = jpype.JClass(\"MinesweeperInterface\")\n",
    "MinesweeperGame = jpype.JClass(\"MinesweeperInterface$MinesweeperGame\")"
   ]
  },
  {
   "cell_type": "code",
   "execution_count": 7,
   "metadata": {},
   "outputs": [
    {
     "name": "stdout",
     "output_type": "stream",
     "text": [
      "False\n",
      "[[-1 -1 -1 -1 -1 -1 -1 -1 -1 -1 -1 -1 -1 -1 -1 -1]\n",
      " [-1 -1 -1 -1 -1 -1 -1 -1 -1 -1 -1 -1 -1 -1 -1 -1]\n",
      " [-1 -1 -1 -1 -1 -1 -1 -1 -1 -1 -1 -1 -1 -1 -1 -1]\n",
      " [-1 -1 -1 -1 -1 -1 -1 -1 -1 -1 -1 -1 -1 -1 -1 -1]\n",
      " [-1 -1 -1 -1 -1 -1 -1 -1 -1 -1 -1 -1 -1 -1 -1 -1]\n",
      " [-1 -1 -1 -1 -1 -1 -1 -1 -1 -1 -1 -1 -1 -1 -1 -1]\n",
      " [-1 -1 -1 -1 -1 -1 -1 -1 -1 -1 -1 -1 -1 -1 -1 -1]\n",
      " [-1 -1 -1 -1 -1 -1 -1 -1 -1 -1 -1 -1 -1 -1 -1 -1]\n",
      " [-1 -1 -1 -1 -1 -1 -1 -1 -1 -1 -1 -1 -1 -1 -1 -1]\n",
      " [-1 -1 -1 -1 -1 -1 -1 -1 -1 -1 -1 -1 -1 -1 -1 -1]\n",
      " [-1 -1 -1 -1 -1 -1 -1 -1 -1 -1 -1 -1 -1 -1 -1 -1]\n",
      " [-1 -1 -1 -1 -1 -1 -1 -1 -1 -1 -1 -1 -1 -1 -1 -1]\n",
      " [-1 -1 -1 -1 -1 -1 -1 -1 -1 -1 -1 -1 -1 -1 -1 -1]\n",
      " [-1 -1 -1 -1 -1 -1 -1 -1 -1 -1 -1 -1 -1 -1 -1 -1]\n",
      " [-1 -1 -1 -1 -1 -1 -1 -1 -1 -1 -1 -1 -1 -1 -1 -1]\n",
      " [-1 -1 -1 -1 -1 -1 -1 -1 -1 -1 -1 -1 -1 -1 -1 -1]]\n"
     ]
    }
   ],
   "source": [
    "\"\"\"Generate game and return a tuple of (game, interface)\"\"\"\n",
    "def generate_new_game():\n",
    "    new_interface = MinesweeperInterface()\n",
    "    new_game = MinesweeperGame(new_interface)\n",
    "    \n",
    "    return (new_game, new_interface)\n",
    "\n",
    "\"\"\"dels the game for garbage collection\"\"\"\n",
    "def destroy_game(interface, game):\n",
    "    del interface\n",
    "    del game\n",
    "    \n",
    "\"\"\"Get board of game as numpy array\"\"\"\n",
    "def get_np_board(game):\n",
    "    j_board = game.getPlayerBoard()\n",
    "    return np.array([list(row) for row in j_board])\n",
    "\n",
    "\"\"\"Click at index [x][y] and return whether or not it was a valid click\"\"\"\n",
    "def click_game(game, x, y):\n",
    "    return game.click(x, y)\n",
    "    \n",
    "new_game, new_interface = generate_new_game()\n",
    "print(new_game.click(3, 3))\n",
    "\n",
    "print(get_np_board(new_game))\n",
    "\n",
    "destroy_game(new_game, new_interface)"
   ]
  },
  {
   "cell_type": "code",
   "execution_count": 3,
   "metadata": {},
   "outputs": [],
   "source": [
    "jpype.shutdownJVM()"
   ]
  },
  {
   "cell_type": "code",
   "execution_count": null,
   "metadata": {},
   "outputs": [],
   "source": []
  },
  {
   "cell_type": "code",
   "execution_count": null,
   "metadata": {},
   "outputs": [],
   "source": []
  }
 ],
 "metadata": {
  "kernelspec": {
   "display_name": "Python 3",
   "language": "python",
   "name": "python3"
  },
  "language_info": {
   "codemirror_mode": {
    "name": "ipython",
    "version": 3
   },
   "file_extension": ".py",
   "mimetype": "text/x-python",
   "name": "python",
   "nbconvert_exporter": "python",
   "pygments_lexer": "ipython3",
   "version": "3.6.3"
  }
 },
 "nbformat": 4,
 "nbformat_minor": 4
}
