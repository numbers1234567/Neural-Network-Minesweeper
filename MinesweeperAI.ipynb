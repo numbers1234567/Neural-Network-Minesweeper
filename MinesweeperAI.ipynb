{
 "cells": [
  {
   "cell_type": "markdown",
   "metadata": {},
   "source": [
    "**Setting up interface to Minesweeper game**"
   ]
  },
  {
   "cell_type": "code",
   "execution_count": 1,
   "metadata": {},
   "outputs": [
    {
     "name": "stdout",
     "output_type": "stream",
     "text": [
      "/Library/Java/JavaVirtualMachines/jdk1.8.0_102.jdk/Contents/Home/jre/lib/jli/libjli.dylib\n"
     ]
    }
   ],
   "source": [
    "import jpype\n",
    "import jpype.imports\n",
    "from jpype.types import *\n",
    "import numpy as np\n",
    "\n",
    "print(jpype.getDefaultJVMPath())\n",
    "\n",
    "jpype.startJVM(jpype.getDefaultJVMPath(),\"-ea\", \"-Djava.class.path=%s\" % ('/Users/apimienta/Documents/Minesweeper AI/train'))\n",
    "\n",
    "MinesweeperInterface = jpype.JClass(\"MinesweeperInterface\")\n",
    "MinesweeperGame = jpype.JClass(\"MinesweeperInterface$MinesweeperGame\")"
   ]
  },
  {
   "cell_type": "code",
   "execution_count": 2,
   "metadata": {},
   "outputs": [
    {
     "name": "stdout",
     "output_type": "stream",
     "text": [
      "True\n"
     ]
    },
    {
     "ename": "NameError",
     "evalue": "name 'game' is not defined",
     "output_type": "error",
     "traceback": [
      "\u001b[0;31m---------------------------------------------------------------------------\u001b[0m",
      "\u001b[0;31mNameError\u001b[0m                                 Traceback (most recent call last)",
      "\u001b[0;32m<ipython-input-2-11a852b172e4>\u001b[0m in \u001b[0;36m<module>\u001b[0;34m\u001b[0m\n\u001b[1;32m     22\u001b[0m \u001b[0mnew_game\u001b[0m\u001b[0;34m,\u001b[0m \u001b[0mnew_interface\u001b[0m \u001b[0;34m=\u001b[0m \u001b[0mgenerate_new_game\u001b[0m\u001b[0;34m(\u001b[0m\u001b[0;34m)\u001b[0m\u001b[0;34m\u001b[0m\u001b[0m\n\u001b[1;32m     23\u001b[0m \u001b[0mprint\u001b[0m\u001b[0;34m(\u001b[0m\u001b[0mclick_game\u001b[0m\u001b[0;34m(\u001b[0m\u001b[0mnew_game\u001b[0m\u001b[0;34m,\u001b[0m \u001b[0;36m3\u001b[0m\u001b[0;34m,\u001b[0m \u001b[0;36m3\u001b[0m\u001b[0;34m)\u001b[0m\u001b[0;34m)\u001b[0m\u001b[0;34m\u001b[0m\u001b[0m\n\u001b[0;32m---> 24\u001b[0;31m \u001b[0mprint\u001b[0m\u001b[0;34m(\u001b[0m\u001b[0mget_np_board\u001b[0m\u001b[0;34m(\u001b[0m\u001b[0mgame\u001b[0m\u001b[0;34m)\u001b[0m\u001b[0;34m.\u001b[0m\u001b[0mshape\u001b[0m\u001b[0;34m)\u001b[0m\u001b[0;34m\u001b[0m\u001b[0m\n\u001b[0m\u001b[1;32m     25\u001b[0m \u001b[0mdestroy_game\u001b[0m\u001b[0;34m(\u001b[0m\u001b[0mnew_game\u001b[0m\u001b[0;34m,\u001b[0m \u001b[0mnew_interface\u001b[0m\u001b[0;34m)\u001b[0m\u001b[0;34m\u001b[0m\u001b[0m\n",
      "\u001b[0;31mNameError\u001b[0m: name 'game' is not defined"
     ]
    }
   ],
   "source": [
    "\"\"\"Generate game and return a tuple of (game, interface)\"\"\"\n",
    "def generate_new_game():\n",
    "    new_interface = MinesweeperInterface()\n",
    "    new_game = MinesweeperGame(new_interface)\n",
    "    \n",
    "    return (new_game, new_interface)\n",
    "\n",
    "\"\"\"dels the game for garbage collection\"\"\"\n",
    "def destroy_game(interface, game):\n",
    "    del interface\n",
    "    del game\n",
    "    \n",
    "\"\"\"Get board of game as numpy array\"\"\"\n",
    "def get_np_board(game):\n",
    "    j_board = game.getPlayerBoard()\n",
    "    return np.pad(np.array([[[cell] for cell in row] for row in j_board]), ((3, 3), (3, 3), (0, 0)), 'constant') # 0-pad as numpy array\n",
    "\n",
    "\"\"\"Click at index [x][y] and return whether or not it was a valid click\"\"\"\n",
    "def click_game(game, x, y):\n",
    "    return game.click(x, y)\n",
    "    \n",
    "new_game, new_interface = generate_new_game()\n",
    "print(click_game(new_game, 3, 3))\n",
    "print(get_np_board(game).shape)\n",
    "destroy_game(new_game, new_interface)"
   ]
  },
  {
   "cell_type": "code",
   "execution_count": 27,
   "metadata": {},
   "outputs": [],
   "source": [
    "jpype.shutdownJVM()"
   ]
  },
  {
   "cell_type": "markdown",
   "metadata": {},
   "source": [
    "**Set up model**"
   ]
  },
  {
   "cell_type": "code",
   "execution_count": 3,
   "metadata": {},
   "outputs": [],
   "source": [
    "from keras import layers\n",
    "from keras import models\n",
    "from keras import Model\n",
    "from keras.optimizers import Adam\n",
    "\n",
    "def build_model():\n",
    "    inputs = layers.Input(shape=(22, 22, 1))\n",
    "    \n",
    "    x = layers.Conv2D(16, 3, activation='relu')(inputs)\n",
    "    x = layers.Conv2D(4, 3, activation='relu')(x)\n",
    "    x = layers.Conv2D(1, 3, activation='relu')(x)\n",
    "    \n",
    "    model = Model(inputs=inputs, outputs=x)\n",
    "    model.compile(loss='mse', optimizer=Adam(lr=0.01), metrics=['mae'])\n",
    "    \n",
    "    return model"
   ]
  },
  {
   "cell_type": "code",
   "execution_count": 4,
   "metadata": {},
   "outputs": [
    {
     "name": "stdout",
     "output_type": "stream",
     "text": [
      "Model: \"model\"\n",
      "_________________________________________________________________\n",
      "Layer (type)                 Output Shape              Param #   \n",
      "=================================================================\n",
      "input_1 (InputLayer)         [(None, 22, 22, 1)]       0         \n",
      "_________________________________________________________________\n",
      "conv2d (Conv2D)              (None, 20, 20, 16)        160       \n",
      "_________________________________________________________________\n",
      "conv2d_1 (Conv2D)            (None, 18, 18, 4)         580       \n",
      "_________________________________________________________________\n",
      "conv2d_2 (Conv2D)            (None, 16, 16, 1)         37        \n",
      "=================================================================\n",
      "Total params: 777\n",
      "Trainable params: 777\n",
      "Non-trainable params: 0\n",
      "_________________________________________________________________\n"
     ]
    }
   ],
   "source": [
    "build_model().summary()"
   ]
  },
  {
   "cell_type": "code",
   "execution_count": null,
   "metadata": {},
   "outputs": [
    {
     "name": "stdout",
     "output_type": "stream",
     "text": [
      "10th episode: median 1\n",
      "2\n",
      "20th episode: median 5\n",
      "1\n",
      "30th episode: median 2\n",
      "0\n",
      "40th episode: median 4\n",
      "30\n",
      "50th episode: median 3\n",
      "9\n",
      "60th episode: median 4\n",
      "28\n",
      "70th episode: median 5\n",
      "2\n",
      "80th episode: median 4\n",
      "4\n",
      "90th episode: median 7\n",
      "94\n",
      "100th episode: median 4\n",
      "14\n",
      "110th episode: median 9\n",
      "12\n",
      "120th episode: median 9\n",
      "234\n",
      "130th episode: median 4\n",
      "1\n",
      "140th episode: median 6\n",
      "30\n"
     ]
    }
   ],
   "source": [
    "from collections import deque\n",
    "\n",
    "num_episodes = 10000\n",
    "eps_decay = 0.5\n",
    "y = 0.95\n",
    "decay_factor = 0.995\n",
    "\n",
    "target_update_interval = 10\n",
    "\n",
    "target_model = build_model()\n",
    "prediction_model = build_model()\n",
    "\n",
    "memory = deque(maxlen=2000)\n",
    "\n",
    "def get_max_q_index(q_table):\n",
    "    flattened_ind = q_table.argmax()\n",
    "    return (flattened_ind%16, int(flattened_ind/16))\n",
    "\n",
    "def get_max_q_value(q_table):\n",
    "    x, y = get_max_q_index(q_table)\n",
    "    return q_table[y][x]\n",
    "\n",
    "def next_to_possible_mine(state, x, y):\n",
    "    if state[y][x][0] != -1: return False\n",
    "    for x_ in range(x-1, x+2):\n",
    "        for y_ in range(y-1, y+2):\n",
    "            if state[y_][x_][0] > 0: return True\n",
    "            \n",
    "    return False\n",
    "\n",
    "rewards_episodes = []\n",
    "\n",
    "for i in range(1, num_episodes+1):\n",
    "    if i%target_update_interval == 0: \n",
    "        target_model = models.clone_model(prediction_model)\n",
    "        target_model.build((None, 22, 22, 1))\n",
    "        target_model.compile(loss='mse', optimizer=Adam(lr=0.01), metrics=['mae'])\n",
    "        target_model.set_weights(prediction_model.get_weights())\n",
    "        \n",
    "        print(\"%dth episode: median %d\" % (i, np.mean(rewards_episodes[-10:])))\n",
    "        print(num_null)\n",
    "        num_null = 0\n",
    "    \n",
    "    num_null = 0\n",
    "    game, interface = generate_new_game()\n",
    "    eps_decay *= decay_factor\n",
    "    done = False\n",
    "    total_reward = 0\n",
    "    while not done:\n",
    "        state = get_np_board(game)\n",
    "        if np.random.random() < eps_decay:\n",
    "            num_tries = 0\n",
    "            action = (np.random.randint(0, 16), np.random.randint(0, 16))\n",
    "            while not next_to_possible_mine(state, action[0], action[1]) and num_tries < 256:\n",
    "                action = (np.random.randint(0, 16), np.random.randint(0, 16))\n",
    "                num_tries += 1\n",
    "        else:\n",
    "            predict_model_q_index = prediction_model.predict(np.array([state]))[0]\n",
    "            ind = predict_model_q_index.argmax()\n",
    "            action = (ind%16, int(ind/16))\n",
    "        \n",
    "        new_state = get_np_board(game)\n",
    "        success_status = click_game(game, action[0], action[1])\n",
    "        reward = 1 if success_status else 0\n",
    "        if state[action[1]][action[0]][0] != -1:\n",
    "            num_null += 1\n",
    "            reward = 0\n",
    "        \n",
    "        target = reward + y * get_max_q_value(target_model.predict(np.array([new_state]))[0])\n",
    "        target_qtable = target_model.predict(np.array([state]))[0]\n",
    "        target_qtable[action[1]][action[0]] = target\n",
    "        \n",
    "        prediction_model.fit(np.array([state]), np.array([target_qtable]), epochs=1, verbose=False)\n",
    "        \n",
    "        done = (not success_status) or game.isSolved()\n",
    "        total_reward += reward\n",
    "    rewards_episodes.append(total_reward)\n",
    "    destroy_game(interface, game)\n",
    "    \n",
    "    "
   ]
  },
  {
   "cell_type": "code",
   "execution_count": null,
   "metadata": {},
   "outputs": [],
   "source": []
  },
  {
   "cell_type": "code",
   "execution_count": null,
   "metadata": {},
   "outputs": [],
   "source": []
  }
 ],
 "metadata": {
  "kernelspec": {
   "display_name": "Python 3",
   "language": "python",
   "name": "python3"
  },
  "language_info": {
   "codemirror_mode": {
    "name": "ipython",
    "version": 3
   },
   "file_extension": ".py",
   "mimetype": "text/x-python",
   "name": "python",
   "nbconvert_exporter": "python",
   "pygments_lexer": "ipython3",
   "version": "3.6.3"
  }
 },
 "nbformat": 4,
 "nbformat_minor": 4
}
